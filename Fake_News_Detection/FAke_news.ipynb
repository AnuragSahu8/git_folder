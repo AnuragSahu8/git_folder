{
 "cells": [
  {
   "cell_type": "code",
   "execution_count": 1,
   "id": "3cc60165",
   "metadata": {},
   "outputs": [],
   "source": [
    "import pandas as pd\n",
    "import numpy as np\n",
    "import seaborn as sns\n",
    "import matplotlib.pyplot as plt"
   ]
  },
  {
   "cell_type": "code",
   "execution_count": 2,
   "id": "9c9a3179",
   "metadata": {},
   "outputs": [
    {
     "data": {
      "text/html": [
       "<div>\n",
       "<style scoped>\n",
       "    .dataframe tbody tr th:only-of-type {\n",
       "        vertical-align: middle;\n",
       "    }\n",
       "\n",
       "    .dataframe tbody tr th {\n",
       "        vertical-align: top;\n",
       "    }\n",
       "\n",
       "    .dataframe thead th {\n",
       "        text-align: right;\n",
       "    }\n",
       "</style>\n",
       "<table border=\"1\" class=\"dataframe\">\n",
       "  <thead>\n",
       "    <tr style=\"text-align: right;\">\n",
       "      <th></th>\n",
       "      <th>Unnamed: 0</th>\n",
       "      <th>title</th>\n",
       "      <th>text</th>\n",
       "      <th>label</th>\n",
       "    </tr>\n",
       "  </thead>\n",
       "  <tbody>\n",
       "    <tr>\n",
       "      <th>0</th>\n",
       "      <td>0</td>\n",
       "      <td>LAW ENFORCEMENT ON HIGH ALERT Following Threat...</td>\n",
       "      <td>No comment is expected from Barack Obama Membe...</td>\n",
       "      <td>1</td>\n",
       "    </tr>\n",
       "    <tr>\n",
       "      <th>1</th>\n",
       "      <td>1</td>\n",
       "      <td>NaN</td>\n",
       "      <td>Did they post their votes for Hillary already?</td>\n",
       "      <td>1</td>\n",
       "    </tr>\n",
       "    <tr>\n",
       "      <th>2</th>\n",
       "      <td>2</td>\n",
       "      <td>UNBELIEVABLE! OBAMA’S ATTORNEY GENERAL SAYS MO...</td>\n",
       "      <td>Now, most of the demonstrators gathered last ...</td>\n",
       "      <td>1</td>\n",
       "    </tr>\n",
       "    <tr>\n",
       "      <th>3</th>\n",
       "      <td>3</td>\n",
       "      <td>Bobby Jindal, raised Hindu, uses story of Chri...</td>\n",
       "      <td>A dozen politically active pastors came here f...</td>\n",
       "      <td>0</td>\n",
       "    </tr>\n",
       "    <tr>\n",
       "      <th>4</th>\n",
       "      <td>4</td>\n",
       "      <td>SATAN 2: Russia unvelis an image of its terrif...</td>\n",
       "      <td>The RS-28 Sarmat missile, dubbed Satan 2, will...</td>\n",
       "      <td>1</td>\n",
       "    </tr>\n",
       "    <tr>\n",
       "      <th>...</th>\n",
       "      <td>...</td>\n",
       "      <td>...</td>\n",
       "      <td>...</td>\n",
       "      <td>...</td>\n",
       "    </tr>\n",
       "    <tr>\n",
       "      <th>72129</th>\n",
       "      <td>72129</td>\n",
       "      <td>Russians steal research on Trump in hack of U....</td>\n",
       "      <td>WASHINGTON (Reuters) - Hackers believed to be ...</td>\n",
       "      <td>0</td>\n",
       "    </tr>\n",
       "    <tr>\n",
       "      <th>72130</th>\n",
       "      <td>72130</td>\n",
       "      <td>WATCH: Giuliani Demands That Democrats Apolog...</td>\n",
       "      <td>You know, because in fantasyland Republicans n...</td>\n",
       "      <td>1</td>\n",
       "    </tr>\n",
       "    <tr>\n",
       "      <th>72131</th>\n",
       "      <td>72131</td>\n",
       "      <td>Migrants Refuse To Leave Train At Refugee Camp...</td>\n",
       "      <td>Migrants Refuse To Leave Train At Refugee Camp...</td>\n",
       "      <td>0</td>\n",
       "    </tr>\n",
       "    <tr>\n",
       "      <th>72132</th>\n",
       "      <td>72132</td>\n",
       "      <td>Trump tussle gives unpopular Mexican leader mu...</td>\n",
       "      <td>MEXICO CITY (Reuters) - Donald Trump’s combati...</td>\n",
       "      <td>0</td>\n",
       "    </tr>\n",
       "    <tr>\n",
       "      <th>72133</th>\n",
       "      <td>72133</td>\n",
       "      <td>Goldman Sachs Endorses Hillary Clinton For Pre...</td>\n",
       "      <td>Goldman Sachs Endorses Hillary Clinton For Pre...</td>\n",
       "      <td>1</td>\n",
       "    </tr>\n",
       "  </tbody>\n",
       "</table>\n",
       "<p>72134 rows × 4 columns</p>\n",
       "</div>"
      ],
      "text/plain": [
       "       Unnamed: 0                                              title  \\\n",
       "0               0  LAW ENFORCEMENT ON HIGH ALERT Following Threat...   \n",
       "1               1                                                NaN   \n",
       "2               2  UNBELIEVABLE! OBAMA’S ATTORNEY GENERAL SAYS MO...   \n",
       "3               3  Bobby Jindal, raised Hindu, uses story of Chri...   \n",
       "4               4  SATAN 2: Russia unvelis an image of its terrif...   \n",
       "...           ...                                                ...   \n",
       "72129       72129  Russians steal research on Trump in hack of U....   \n",
       "72130       72130   WATCH: Giuliani Demands That Democrats Apolog...   \n",
       "72131       72131  Migrants Refuse To Leave Train At Refugee Camp...   \n",
       "72132       72132  Trump tussle gives unpopular Mexican leader mu...   \n",
       "72133       72133  Goldman Sachs Endorses Hillary Clinton For Pre...   \n",
       "\n",
       "                                                    text  label  \n",
       "0      No comment is expected from Barack Obama Membe...      1  \n",
       "1         Did they post their votes for Hillary already?      1  \n",
       "2       Now, most of the demonstrators gathered last ...      1  \n",
       "3      A dozen politically active pastors came here f...      0  \n",
       "4      The RS-28 Sarmat missile, dubbed Satan 2, will...      1  \n",
       "...                                                  ...    ...  \n",
       "72129  WASHINGTON (Reuters) - Hackers believed to be ...      0  \n",
       "72130  You know, because in fantasyland Republicans n...      1  \n",
       "72131  Migrants Refuse To Leave Train At Refugee Camp...      0  \n",
       "72132  MEXICO CITY (Reuters) - Donald Trump’s combati...      0  \n",
       "72133  Goldman Sachs Endorses Hillary Clinton For Pre...      1  \n",
       "\n",
       "[72134 rows x 4 columns]"
      ]
     },
     "execution_count": 2,
     "metadata": {},
     "output_type": "execute_result"
    }
   ],
   "source": [
    "df=pd.read_csv('../Dell/Downloads/WELFake_Dataset.csv')\n",
    "df"
   ]
  },
  {
   "cell_type": "code",
   "execution_count": 3,
   "id": "6cbde9a0",
   "metadata": {
    "scrolled": true
   },
   "outputs": [
    {
     "data": {
      "text/html": [
       "<div>\n",
       "<style scoped>\n",
       "    .dataframe tbody tr th:only-of-type {\n",
       "        vertical-align: middle;\n",
       "    }\n",
       "\n",
       "    .dataframe tbody tr th {\n",
       "        vertical-align: top;\n",
       "    }\n",
       "\n",
       "    .dataframe thead th {\n",
       "        text-align: right;\n",
       "    }\n",
       "</style>\n",
       "<table border=\"1\" class=\"dataframe\">\n",
       "  <thead>\n",
       "    <tr style=\"text-align: right;\">\n",
       "      <th></th>\n",
       "      <th>Unnamed: 0</th>\n",
       "      <th>title</th>\n",
       "      <th>text</th>\n",
       "      <th>label</th>\n",
       "    </tr>\n",
       "  </thead>\n",
       "  <tbody>\n",
       "    <tr>\n",
       "      <th>0</th>\n",
       "      <td>48033</td>\n",
       "      <td>Trump Supporters Just DESTROYED A Black Churc...</td>\n",
       "      <td>Just a few days before election day, Donald Tr...</td>\n",
       "      <td>1</td>\n",
       "    </tr>\n",
       "    <tr>\n",
       "      <th>1</th>\n",
       "      <td>46928</td>\n",
       "      <td>U.S. judge narrows travel ban in defeat for Trump</td>\n",
       "      <td>(Reuters) - President Donald Trump’s temporary...</td>\n",
       "      <td>0</td>\n",
       "    </tr>\n",
       "    <tr>\n",
       "      <th>2</th>\n",
       "      <td>71376</td>\n",
       "      <td>Watch This GOP Delegate CLEARLY Show He Doesn...</td>\n",
       "      <td>If you ve been watching the Republican Nationa...</td>\n",
       "      <td>1</td>\n",
       "    </tr>\n",
       "    <tr>\n",
       "      <th>3</th>\n",
       "      <td>47278</td>\n",
       "      <td>Jury finds all Oregon standoff defendants not ...</td>\n",
       "      <td>Oregon Live – by Maxine Bernstein \\nA federal ...</td>\n",
       "      <td>1</td>\n",
       "    </tr>\n",
       "    <tr>\n",
       "      <th>4</th>\n",
       "      <td>22561</td>\n",
       "      <td>Pentagon Unit Considered Setting Up a Secret O...</td>\n",
       "      <td>WASHINGTON  —   As the Central Intelligence Ag...</td>\n",
       "      <td>0</td>\n",
       "    </tr>\n",
       "    <tr>\n",
       "      <th>...</th>\n",
       "      <td>...</td>\n",
       "      <td>...</td>\n",
       "      <td>...</td>\n",
       "      <td>...</td>\n",
       "    </tr>\n",
       "    <tr>\n",
       "      <th>72129</th>\n",
       "      <td>17904</td>\n",
       "      <td>And Now the Work Begins</td>\n",
       "      <td>Today, in the light of the morning, what do we...</td>\n",
       "      <td>1</td>\n",
       "    </tr>\n",
       "    <tr>\n",
       "      <th>72130</th>\n",
       "      <td>37597</td>\n",
       "      <td>Mexico urges respect from U.S. for 2018 presid...</td>\n",
       "      <td>(Reuters) - U.S. officials should be respectfu...</td>\n",
       "      <td>0</td>\n",
       "    </tr>\n",
       "    <tr>\n",
       "      <th>72131</th>\n",
       "      <td>10201</td>\n",
       "      <td>May, Trump agree Russia should break ties with...</td>\n",
       "      <td>LONDON (Reuters) - British Prime Minister Ther...</td>\n",
       "      <td>0</td>\n",
       "    </tr>\n",
       "    <tr>\n",
       "      <th>72132</th>\n",
       "      <td>9372</td>\n",
       "      <td>Revelation Unleashed: Unlocking The Mysteries ...</td>\n",
       "      <td>Revelation Unleashed: Unlocking The Mysterie...</td>\n",
       "      <td>1</td>\n",
       "    </tr>\n",
       "    <tr>\n",
       "      <th>72133</th>\n",
       "      <td>50496</td>\n",
       "      <td>Waitress accidentally breaks ancient Roman sta...</td>\n",
       "      <td>Waitress accidentally breaks ancient Roman sta...</td>\n",
       "      <td>1</td>\n",
       "    </tr>\n",
       "  </tbody>\n",
       "</table>\n",
       "<p>72134 rows × 4 columns</p>\n",
       "</div>"
      ],
      "text/plain": [
       "       Unnamed: 0                                              title  \\\n",
       "0           48033   Trump Supporters Just DESTROYED A Black Churc...   \n",
       "1           46928  U.S. judge narrows travel ban in defeat for Trump   \n",
       "2           71376   Watch This GOP Delegate CLEARLY Show He Doesn...   \n",
       "3           47278  Jury finds all Oregon standoff defendants not ...   \n",
       "4           22561  Pentagon Unit Considered Setting Up a Secret O...   \n",
       "...           ...                                                ...   \n",
       "72129       17904                            And Now the Work Begins   \n",
       "72130       37597  Mexico urges respect from U.S. for 2018 presid...   \n",
       "72131       10201  May, Trump agree Russia should break ties with...   \n",
       "72132        9372  Revelation Unleashed: Unlocking The Mysteries ...   \n",
       "72133       50496  Waitress accidentally breaks ancient Roman sta...   \n",
       "\n",
       "                                                    text  label  \n",
       "0      Just a few days before election day, Donald Tr...      1  \n",
       "1      (Reuters) - President Donald Trump’s temporary...      0  \n",
       "2      If you ve been watching the Republican Nationa...      1  \n",
       "3      Oregon Live – by Maxine Bernstein \\nA federal ...      1  \n",
       "4      WASHINGTON  —   As the Central Intelligence Ag...      0  \n",
       "...                                                  ...    ...  \n",
       "72129  Today, in the light of the morning, what do we...      1  \n",
       "72130  (Reuters) - U.S. officials should be respectfu...      0  \n",
       "72131  LONDON (Reuters) - British Prime Minister Ther...      0  \n",
       "72132    Revelation Unleashed: Unlocking The Mysterie...      1  \n",
       "72133  Waitress accidentally breaks ancient Roman sta...      1  \n",
       "\n",
       "[72134 rows x 4 columns]"
      ]
     },
     "execution_count": 3,
     "metadata": {},
     "output_type": "execute_result"
    }
   ],
   "source": [
    "df1=df.sample(frac=1,random_state=10).reset_index(drop=True)\n",
    "df1"
   ]
  },
  {
   "cell_type": "code",
   "execution_count": 4,
   "id": "f7ddcb73",
   "metadata": {},
   "outputs": [],
   "source": [
    "df1=df1.dropna().reset_index()"
   ]
  },
  {
   "cell_type": "code",
   "execution_count": 5,
   "id": "888b3cf5",
   "metadata": {},
   "outputs": [],
   "source": [
    "df1=df1.head(10000)"
   ]
  },
  {
   "cell_type": "code",
   "execution_count": 6,
   "id": "51f61907",
   "metadata": {},
   "outputs": [
    {
     "data": {
      "text/plain": [
       "<AxesSubplot:xlabel='label', ylabel='count'>"
      ]
     },
     "execution_count": 6,
     "metadata": {},
     "output_type": "execute_result"
    },
    {
     "data": {
      "image/png": "[encoded data removed]",
      "text/plain": [
       "<Figure size 640x480 with 1 Axes>"
      ]
     },
     "metadata": {},
     "output_type": "display_data"
    }
   ],
   "source": [
    "sns.countplot(x='label',data=df1)"
   ]
  },
  {
   "cell_type": "code",
   "execution_count": 7,
   "id": "42356922",
   "metadata": {},
   "outputs": [
    {
     "data": {
      "text/html": [
       "<div>\n",
       "<style scoped>\n",
       "    .dataframe tbody tr th:only-of-type {\n",
       "        vertical-align: middle;\n",
       "    }\n",
       "\n",
       "    .dataframe tbody tr th {\n",
       "        vertical-align: top;\n",
       "    }\n",
       "\n",
       "    .dataframe thead th {\n",
       "        text-align: right;\n",
       "    }\n",
       "</style>\n",
       "<table border=\"1\" class=\"dataframe\">\n",
       "  <thead>\n",
       "    <tr style=\"text-align: right;\">\n",
       "      <th></th>\n",
       "      <th>index</th>\n",
       "      <th>Unnamed: 0</th>\n",
       "      <th>title</th>\n",
       "      <th>text</th>\n",
       "      <th>label</th>\n",
       "      <th>original</th>\n",
       "    </tr>\n",
       "  </thead>\n",
       "  <tbody>\n",
       "    <tr>\n",
       "      <th>0</th>\n",
       "      <td>0</td>\n",
       "      <td>48033</td>\n",
       "      <td>Trump Supporters Just DESTROYED A Black Churc...</td>\n",
       "      <td>Just a few days before election day, Donald Tr...</td>\n",
       "      <td>1</td>\n",
       "      <td>Trump Supporters Just DESTROYED A Black Churc...</td>\n",
       "    </tr>\n",
       "    <tr>\n",
       "      <th>1</th>\n",
       "      <td>1</td>\n",
       "      <td>46928</td>\n",
       "      <td>U.S. judge narrows travel ban in defeat for Trump</td>\n",
       "      <td>(Reuters) - President Donald Trump’s temporary...</td>\n",
       "      <td>0</td>\n",
       "      <td>U.S. judge narrows travel ban in defeat for Tr...</td>\n",
       "    </tr>\n",
       "    <tr>\n",
       "      <th>2</th>\n",
       "      <td>2</td>\n",
       "      <td>71376</td>\n",
       "      <td>Watch This GOP Delegate CLEARLY Show He Doesn...</td>\n",
       "      <td>If you ve been watching the Republican Nationa...</td>\n",
       "      <td>1</td>\n",
       "      <td>Watch This GOP Delegate CLEARLY Show He Doesn...</td>\n",
       "    </tr>\n",
       "    <tr>\n",
       "      <th>3</th>\n",
       "      <td>3</td>\n",
       "      <td>47278</td>\n",
       "      <td>Jury finds all Oregon standoff defendants not ...</td>\n",
       "      <td>Oregon Live – by Maxine Bernstein \\nA federal ...</td>\n",
       "      <td>1</td>\n",
       "      <td>Jury finds all Oregon standoff defendants not ...</td>\n",
       "    </tr>\n",
       "    <tr>\n",
       "      <th>4</th>\n",
       "      <td>4</td>\n",
       "      <td>22561</td>\n",
       "      <td>Pentagon Unit Considered Setting Up a Secret O...</td>\n",
       "      <td>WASHINGTON  —   As the Central Intelligence Ag...</td>\n",
       "      <td>0</td>\n",
       "      <td>Pentagon Unit Considered Setting Up a Secret O...</td>\n",
       "    </tr>\n",
       "    <tr>\n",
       "      <th>...</th>\n",
       "      <td>...</td>\n",
       "      <td>...</td>\n",
       "      <td>...</td>\n",
       "      <td>...</td>\n",
       "      <td>...</td>\n",
       "      <td>...</td>\n",
       "    </tr>\n",
       "    <tr>\n",
       "      <th>9995</th>\n",
       "      <td>10057</td>\n",
       "      <td>23302</td>\n",
       "      <td>WOW: Duck Dynasty Star Phil Robertson Offers ...</td>\n",
       "      <td>No one can accuse Duck Dynasty star Phil Rober...</td>\n",
       "      <td>1</td>\n",
       "      <td>WOW: Duck Dynasty Star Phil Robertson Offers ...</td>\n",
       "    </tr>\n",
       "    <tr>\n",
       "      <th>9996</th>\n",
       "      <td>10058</td>\n",
       "      <td>37428</td>\n",
       "      <td>$110K STOLEN FROM ‘At Risk Kids’ Fund By DC Ci...</td>\n",
       "      <td>Aren t the kids already suffering enough by be...</td>\n",
       "      <td>1</td>\n",
       "      <td>$110K STOLEN FROM ‘At Risk Kids’ Fund By DC Ci...</td>\n",
       "    </tr>\n",
       "    <tr>\n",
       "      <th>9997</th>\n",
       "      <td>10059</td>\n",
       "      <td>65001</td>\n",
       "      <td>William Weld: Never Mind Libertarianism, He's ...</td>\n",
       "      <td>Boston magazine has a long take on William Wel...</td>\n",
       "      <td>0</td>\n",
       "      <td>William Weld: Never Mind Libertarianism, He's ...</td>\n",
       "    </tr>\n",
       "    <tr>\n",
       "      <th>9998</th>\n",
       "      <td>10060</td>\n",
       "      <td>62651</td>\n",
       "      <td>Environment 'Has Never Been A Partisan Issue' ...</td>\n",
       "      <td>WASHINGTON -- Before joining the Obama adminis...</td>\n",
       "      <td>0</td>\n",
       "      <td>Environment 'Has Never Been A Partisan Issue' ...</td>\n",
       "    </tr>\n",
       "    <tr>\n",
       "      <th>9999</th>\n",
       "      <td>10061</td>\n",
       "      <td>69944</td>\n",
       "      <td>Budget Cuts Agencies’ Reserve Funds to Block B...</td>\n",
       "      <td>The fine print in the bipartisan 2017 budget p...</td>\n",
       "      <td>0</td>\n",
       "      <td>Budget Cuts Agencies’ Reserve Funds to Block B...</td>\n",
       "    </tr>\n",
       "  </tbody>\n",
       "</table>\n",
       "<p>10000 rows × 6 columns</p>\n",
       "</div>"
      ],
      "text/plain": [
       "      index  Unnamed: 0                                              title  \\\n",
       "0         0       48033   Trump Supporters Just DESTROYED A Black Churc...   \n",
       "1         1       46928  U.S. judge narrows travel ban in defeat for Trump   \n",
       "2         2       71376   Watch This GOP Delegate CLEARLY Show He Doesn...   \n",
       "3         3       47278  Jury finds all Oregon standoff defendants not ...   \n",
       "4         4       22561  Pentagon Unit Considered Setting Up a Secret O...   \n",
       "...     ...         ...                                                ...   \n",
       "9995  10057       23302   WOW: Duck Dynasty Star Phil Robertson Offers ...   \n",
       "9996  10058       37428  $110K STOLEN FROM ‘At Risk Kids’ Fund By DC Ci...   \n",
       "9997  10059       65001  William Weld: Never Mind Libertarianism, He's ...   \n",
       "9998  10060       62651  Environment 'Has Never Been A Partisan Issue' ...   \n",
       "9999  10061       69944  Budget Cuts Agencies’ Reserve Funds to Block B...   \n",
       "\n",
       "                                                   text  label  \\\n",
       "0     Just a few days before election day, Donald Tr...      1   \n",
       "1     (Reuters) - President Donald Trump’s temporary...      0   \n",
       "2     If you ve been watching the Republican Nationa...      1   \n",
       "3     Oregon Live – by Maxine Bernstein \\nA federal ...      1   \n",
       "4     WASHINGTON  —   As the Central Intelligence Ag...      0   \n",
       "...                                                 ...    ...   \n",
       "9995  No one can accuse Duck Dynasty star Phil Rober...      1   \n",
       "9996  Aren t the kids already suffering enough by be...      1   \n",
       "9997  Boston magazine has a long take on William Wel...      0   \n",
       "9998  WASHINGTON -- Before joining the Obama adminis...      0   \n",
       "9999  The fine print in the bipartisan 2017 budget p...      0   \n",
       "\n",
       "                                               original  \n",
       "0      Trump Supporters Just DESTROYED A Black Churc...  \n",
       "1     U.S. judge narrows travel ban in defeat for Tr...  \n",
       "2      Watch This GOP Delegate CLEARLY Show He Doesn...  \n",
       "3     Jury finds all Oregon standoff defendants not ...  \n",
       "4     Pentagon Unit Considered Setting Up a Secret O...  \n",
       "...                                                 ...  \n",
       "9995   WOW: Duck Dynasty Star Phil Robertson Offers ...  \n",
       "9996  $110K STOLEN FROM ‘At Risk Kids’ Fund By DC Ci...  \n",
       "9997  William Weld: Never Mind Libertarianism, He's ...  \n",
       "9998  Environment 'Has Never Been A Partisan Issue' ...  \n",
       "9999  Budget Cuts Agencies’ Reserve Funds to Block B...  \n",
       "\n",
       "[10000 rows x 6 columns]"
      ]
     },
     "execution_count": 7,
     "metadata": {},
     "output_type": "execute_result"
    }
   ],
   "source": [
    "df1['original']=df1['title']+' '+df1['text']\n",
    "df1"
   ]
  },
  {
   "cell_type": "code",
   "execution_count": 8,
   "id": "0ee93272",
   "metadata": {
    "scrolled": true
   },
   "outputs": [
    {
     "data": {
      "text/plain": [
       "index         0\n",
       "Unnamed: 0    0\n",
       "title         0\n",
       "text          0\n",
       "label         0\n",
       "original      0\n",
       "dtype: int64"
      ]
     },
     "execution_count": 8,
     "metadata": {},
     "output_type": "execute_result"
    }
   ],
   "source": [
    "df1.isnull().sum()"
   ]
  },
  {
   "cell_type": "code",
   "execution_count": 9,
   "id": "d14d1f9d",
   "metadata": {},
   "outputs": [],
   "source": [
    "df1['no_of_words']=df1['original'].apply(lambda x : len(x.split()))\n"
   ]
  },
  {
   "cell_type": "code",
   "execution_count": 10,
   "id": "9d6b4e61",
   "metadata": {},
   "outputs": [
    {
     "data": {
      "text/plain": [
       "20904"
      ]
     },
     "execution_count": 10,
     "metadata": {},
     "output_type": "execute_result"
    }
   ],
   "source": [
    "df1['no_of_words'].max()"
   ]
  },
  {
   "cell_type": "code",
   "execution_count": 11,
   "id": "587ce365",
   "metadata": {},
   "outputs": [
    {
     "data": {
      "image/png": "[encoded data removed]",
      "text/plain": [
       "<Figure size 3000x1000 with 1 Axes>"
      ]
     },
     "metadata": {},
     "output_type": "display_data"
    }
   ],
   "source": [
    "plt.figure(figsize=(30,10))\n",
    "sns.histplot(x=df1['no_of_words'],bins=range(1,3000,50))\n",
    "plt.show()"
   ]
  },
  {
   "cell_type": "code",
   "execution_count": 12,
   "id": "9fdbc391",
   "metadata": {},
   "outputs": [
    {
     "data": {
      "text/plain": [
       "array([<AxesSubplot:title={'center':'0'}>,\n",
       "       <AxesSubplot:title={'center':'1'}>], dtype=object)"
      ]
     },
     "execution_count": 12,
     "metadata": {},
     "output_type": "execute_result"
    },
    {
     "data": {
      "image/png": "[encoded data removed]",
      "text/plain": [
       "<Figure size 1200x400 with 2 Axes>"
      ]
     },
     "metadata": {},
     "output_type": "display_data"
    }
   ],
   "source": [
    "df1.hist(column='no_of_words', by='label', bins=50,figsize=(12,4))"
   ]
  },
  {
   "cell_type": "code",
   "execution_count": 13,
   "id": "a5d55f34",
   "metadata": {},
   "outputs": [],
   "source": [
    "# X=df1['original']\n",
    "y=df1['label']"
   ]
  },
  {
   "cell_type": "code",
   "execution_count": 14,
   "id": "84416ea7",
   "metadata": {},
   "outputs": [],
   "source": [
    "# X=X.reset_index()"
   ]
  },
  {
   "cell_type": "code",
   "execution_count": 104,
   "id": "8f01a45f",
   "metadata": {},
   "outputs": [],
   "source": [
    "from nltk.corpus import stopwords\n",
    "from nltk.stem import PorterStemmer\n",
    "import re\n",
    "import string"
   ]
  },
  {
   "cell_type": "code",
   "execution_count": 105,
   "id": "835d2c63",
   "metadata": {},
   "outputs": [],
   "source": [
    "def wordopt(text):\n",
    "    text = text.lower()\n",
    "    text = re.sub('\\[.*?\\]', '', text)\n",
    "    text = re.sub(\"\\\\W\",\" \",text)\n",
    "    text = re.sub('https?://\\S+|www\\.\\S+', '', text)\n",
    "    text = re.sub('<.*?>+', '', text)\n",
    "    text = re.sub('[%s]' % re.escape(string.punctuation), '', text)\n",
    "    text = re.sub('\\n', '', text)\n",
    "    text = re.sub('\\w*\\d\\w*', '', text)\n",
    "    return text"
   ]
  },
  {
   "cell_type": "code",
   "execution_count": 106,
   "id": "29c4ebe9",
   "metadata": {},
   "outputs": [],
   "source": [
    "df1['original']=df1['original'].apply(wordopt)"
   ]
  },
  {
   "cell_type": "code",
   "execution_count": 107,
   "id": "275f4f21",
   "metadata": {},
   "outputs": [],
   "source": [
    "from sklearn.feature_extraction.text import TfidfVectorizer"
   ]
  },
  {
   "cell_type": "code",
   "execution_count": 137,
   "id": "3c13f7a6",
   "metadata": {},
   "outputs": [],
   "source": [
    "def output_label(n):\n",
    "    if n==0:\n",
    "        return \"Fake News\"\n",
    "    elif n==1:\n",
    "        return \"Real News\"\n",
    "def manual_testing(news):\n",
    "    testing_news = {\"text\": [news]}\n",
    "    new_def_test = pd.DataFrame(testing_news)\n",
    "    new_def_test[\"text\"] = new_def_test[\"text\"].apply(wordopt)\n",
    "    new_x_test = new_def_test[\"text\"]\n",
    "    new_xv_test = tfidf.transform(new_x_test)\n",
    "    pred_LR = PAC_model.predict(new_xv_test)\n",
    "\n",
    "\n",
    "    return f\"\\n\\nLR Prediction: {output_label(pred_LR[0])} \""
   ]
  },
  {
   "cell_type": "code",
   "execution_count": null,
   "id": "038c1b05",
   "metadata": {},
   "outputs": [],
   "source": []
  },
  {
   "cell_type": "code",
   "execution_count": 88,
   "id": "6cd947ed",
   "metadata": {},
   "outputs": [],
   "source": [
    "from sklearn.model_selection import train_test_split\n",
    "from sklearn.linear_model import PassiveAggressiveClassifier"
   ]
  },
  {
   "cell_type": "code",
   "execution_count": 119,
   "id": "59f5e9c7",
   "metadata": {},
   "outputs": [],
   "source": [
    " X_train, X_test, y_train, y_test = train_test_split( df1['original'], y, test_size=0.30, random_state=42)"
   ]
  },
  {
   "cell_type": "code",
   "execution_count": 120,
   "id": "ae52ed59",
   "metadata": {},
   "outputs": [],
   "source": [
    "tfidf=TfidfVectorizer()\n",
    "xv_train=tfidf.fit_transform(X_train)\n",
    "xv_test=tfidf.transform(X_test)"
   ]
  },
  {
   "cell_type": "code",
   "execution_count": 121,
   "id": "01e3517a",
   "metadata": {},
   "outputs": [
    {
     "data": {
      "text/plain": [
       "PassiveAggressiveClassifier()"
      ]
     },
     "execution_count": 121,
     "metadata": {},
     "output_type": "execute_result"
    }
   ],
   "source": [
    "PAC_model=PassiveAggressiveClassifier()\n",
    "PAC_model.fit(xv_train,y_train)"
   ]
  },
  {
   "cell_type": "code",
   "execution_count": 122,
   "id": "1101a2f3",
   "metadata": {},
   "outputs": [],
   "source": [
    "prediction=PAC_model.predict(xv_test)"
   ]
  },
  {
   "cell_type": "code",
   "execution_count": 123,
   "id": "270f86f8",
   "metadata": {},
   "outputs": [
    {
     "data": {
      "text/plain": [
       "array([0, 1, 1, ..., 0, 0, 1], dtype=int64)"
      ]
     },
     "execution_count": 123,
     "metadata": {},
     "output_type": "execute_result"
    }
   ],
   "source": [
    "prediction"
   ]
  },
  {
   "cell_type": "code",
   "execution_count": 95,
   "id": "4180befd",
   "metadata": {},
   "outputs": [],
   "source": [
    "from sklearn.metrics import confusion_matrix,classification_report,accuracy_score"
   ]
  },
  {
   "cell_type": "code",
   "execution_count": 124,
   "id": "7b574549",
   "metadata": {},
   "outputs": [
    {
     "name": "stdout",
     "output_type": "stream",
     "text": [
      "[[1352  106]\n",
      " [  89 1453]]\n",
      "<function classification_report at 0x000001F51ACC1940>\n"
     ]
    }
   ],
   "source": [
    "print(confusion_matrix(y_test,prediction))\n",
    "print(classification_report)"
   ]
  },
  {
   "cell_type": "code",
   "execution_count": 125,
   "id": "17ee434e",
   "metadata": {},
   "outputs": [
    {
     "data": {
      "text/plain": [
       "Text(50.722222222222214, 0.5, 'Actual values')"
      ]
     },
     "execution_count": 125,
     "metadata": {},
     "output_type": "execute_result"
    },
    {
     "data": {
      "image/png": "[encoded data removed]",
      "text/plain": [
       "<Figure size 640x480 with 2 Axes>"
      ]
     },
     "metadata": {},
     "output_type": "display_data"
    }
   ],
   "source": [
    "sns.heatmap(confusion_matrix(y_test,prediction),fmt=' ',annot=True,cmap='Blues')\n",
    "plt.xlabel('Predicted values',loc='center')\n",
    "plt.ylabel('Actual values')"
   ]
  },
  {
   "cell_type": "code",
   "execution_count": 126,
   "id": "75bec639",
   "metadata": {},
   "outputs": [
    {
     "name": "stdout",
     "output_type": "stream",
     "text": [
      "93.5\n"
     ]
    }
   ],
   "source": [
    "print(accuracy_score(y_test,prediction)*100)"
   ]
  },
  {
   "cell_type": "markdown",
   "id": "cc3c23ae",
   "metadata": {},
   "source": [
    "# Logistic Regression"
   ]
  },
  {
   "cell_type": "code",
   "execution_count": 32,
   "id": "fae2c8ce",
   "metadata": {},
   "outputs": [
    {
     "data": {
      "text/plain": [
       "0.9233333333333333"
      ]
     },
     "execution_count": 32,
     "metadata": {},
     "output_type": "execute_result"
    }
   ],
   "source": [
    "# from sklearn.linear_model import LogisticRegression\n",
    "# LR_model=LogisticRegression(max_iter=500)\n",
    "# LR_model.fit(X_train,y_train)\n",
    "# LR_prediction=LR_model.predict(X_test)\n",
    "# accuracy_score(y_test,LR_prediction)"
   ]
  },
  {
   "cell_type": "markdown",
   "id": "2c9dbc16",
   "metadata": {},
   "source": [
    "# MultinomialNB"
   ]
  },
  {
   "cell_type": "code",
   "execution_count": 33,
   "id": "19f48291",
   "metadata": {},
   "outputs": [
    {
     "data": {
      "text/plain": [
       "0.8716666666666667"
      ]
     },
     "execution_count": 33,
     "metadata": {},
     "output_type": "execute_result"
    }
   ],
   "source": [
    "# from sklearn.naive_bayes import MultinomialNB\n",
    "# NB_model=MultinomialNB(alpha=0.5)\n",
    "# NB_model.fit(X_train,y_train)\n",
    "# NB_prediction=NB_model.predict(X_test)\n",
    "# accuracy_score(y_test,NB_prediction)"
   ]
  },
  {
   "cell_type": "code",
   "execution_count": null,
   "id": "5a50be09",
   "metadata": {},
   "outputs": [],
   "source": [
    "# import pickle\n",
    "# with open('Fake_model.pickle','wb') as f:\n",
    "#     pickle.dump(PAC_model,f)"
   ]
  },
  {
   "cell_type": "code",
   "execution_count": null,
   "id": "2efa4d2e",
   "metadata": {},
   "outputs": [],
   "source": [
    "# import nltk\n",
    "# nltk.download('')"
   ]
  },
  {
   "cell_type": "code",
   "execution_count": null,
   "id": "a8b5c57d",
   "metadata": {},
   "outputs": [],
   "source": [
    "# from nltk.sentiment import SentimentIntensityAnalyzer"
   ]
  },
  {
   "cell_type": "code",
   "execution_count": null,
   "id": "c2340178",
   "metadata": {},
   "outputs": [],
   "source": [
    "# sia=SentimentIntensityAnalyzer()"
   ]
  },
  {
   "cell_type": "code",
   "execution_count": null,
   "id": "6e4b581b",
   "metadata": {},
   "outputs": [],
   "source": [
    "# sia.POlarity_scores(\"\")"
   ]
  },
  {
   "cell_type": "code",
   "execution_count": null,
   "id": "d9d4437d",
   "metadata": {},
   "outputs": [],
   "source": [
    "# with open('Fake_model.pickle','rb') as f:\n",
    "#     p_model=pickle.load(f)"
   ]
  },
  {
   "cell_type": "code",
   "execution_count": 139,
   "id": "b8807919",
   "metadata": {},
   "outputs": [
    {
     "name": "stdout",
     "output_type": "stream",
     "text": [
      "Taj Mahal in Paris\n"
     ]
    },
    {
     "data": {
      "text/plain": [
       "'\\n\\nLR Prediction: Real News '"
      ]
     },
     "execution_count": 139,
     "metadata": {},
     "output_type": "execute_result"
    }
   ],
   "source": [
    "news=str(input())\n",
    "manual_testing(news)"
   ]
  },
  {
   "cell_type": "code",
   "execution_count": null,
   "id": "640b78cb",
   "metadata": {},
   "outputs": [],
   "source": []
  },
  {
   "cell_type": "code",
   "execution_count": 36,
   "id": "1868aae5",
   "metadata": {},
   "outputs": [
    {
     "data": {
      "text/plain": [
       "array([1], dtype=int64)"
      ]
     },
     "execution_count": 36,
     "metadata": {},
     "output_type": "execute_result"
    }
   ],
   "source": [
    "PAC_model.predict()"
   ]
  }
 ],
 "metadata": {
  "kernelspec": {
   "display_name": "Python 3 (ipykernel)",
   "language": "python",
   "name": "python3"
  },
  "language_info": {
   "codemirror_mode": {
    "name": "ipython",
    "version": 3
   },
   "file_extension": ".py",
   "mimetype": "text/x-python",
   "name": "python",
   "nbconvert_exporter": "python",
   "pygments_lexer": "ipython3",
   "version": "3.9.13"
  }
 },
 "nbformat": 4,
 "nbformat_minor": 5
}
